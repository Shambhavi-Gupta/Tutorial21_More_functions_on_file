{
  "nbformat": 4,
  "nbformat_minor": 0,
  "metadata": {
    "colab": {
      "name": "Tutorial21_More_Functions_on_File.ipynb",
      "provenance": [],
      "authorship_tag": "ABX9TyN7iVVQVEOu/zkSK8NH9G3C",
      "include_colab_link": true
    },
    "kernelspec": {
      "name": "python3",
      "display_name": "Python 3"
    }
  },
  "cells": [
    {
      "cell_type": "markdown",
      "metadata": {
        "id": "view-in-github",
        "colab_type": "text"
      },
      "source": [
        "<a href=\"https://colab.research.google.com/github/Shambhavi-Gupta/Tutorial21_More_functions_on_file/blob/main/Tutorial21_More_Functions_on_File.ipynb\" target=\"_parent\"><img src=\"https://colab.research.google.com/assets/colab-badge.svg\" alt=\"Open In Colab\"/></a>"
      ]
    },
    {
      "cell_type": "code",
      "metadata": {
        "id": "oUW3KkeasYpD"
      },
      "source": [
        "f = open(\"write.txt\")\r\n",
        "#print(f.tell()) #use to tell the position of file pointer\r\n",
        "\r\n",
        "#print(f.readline())\r\n",
        "#print(f.tell())\r\n",
        "f.seek(5)    #use that from where you wanr to read the file\r\n",
        "print(f.readline())\r\n",
        "#print(f.tell())\r\n",
        "f.close()"
      ],
      "execution_count": null,
      "outputs": []
    }
  ]
}